{
 "cells": [
  {
   "cell_type": "code",
   "execution_count": 1,
   "id": "97786646",
   "metadata": {},
   "outputs": [],
   "source": [
    "import requests\n",
    "from bs4 import BeautifulSoup"
   ]
  },
  {
   "cell_type": "code",
   "execution_count": 3,
   "id": "c496acad",
   "metadata": {},
   "outputs": [
    {
     "name": "stdout",
     "output_type": "stream",
     "text": [
      "Script src: /maps/_/js/k=maps.m.es_419.8kf-yBBwNMM.es5.O/m=sc2,per,mo,lp,ep,ti,ds,stx,pwd,dw,plm,log,b/am=OwBDQA/rt=j/d=1/rs=ACT90oGD0n44CqYCBFEC9nC-_iAn22UIBA\n",
      "Link href: /maps/preview/opensearch.xml?hl=es-419\n",
      "Link href: //www.google.com/images/branding/product/ico/maps15_bnuw3a_32dp.ico\n",
      "Link href: /maps/preview/pwa/manifest?source=ttpwa&hl=es-419\n",
      "Link href: /maps/_/ss/k=maps.m.Y8h2Xovaz9g.L.X.O/m=sc2,per,mo,lp,ep,ti,ds,stx,pwd,dw,plm,log,b/am=OwBDQA/d=1/rs=ACT90oGAQkT6ZL5V5j3mZWD7w13kNWQ-qQ\n"
     ]
    }
   ],
   "source": [
    "# Obtener el código HTML de la página\n",
    "url = 'https://www.google.com/maps/search/bars+near+NY,+USA/@40.7443439,-74.0197995,13z'\n",
    "page = requests.get(url)\n",
    "html = page.text\n",
    "\n",
    "# Crear un objeto BeautifulSoup para poder procesar el código HTML\n",
    "soup = BeautifulSoup(html, 'html.parser')\n",
    "\n",
    "# Encontrar todas las etiquetas <script> y <link> en el HTML\n",
    "scripts = soup.find_all('script')\n",
    "links = soup.find_all('link')\n",
    "\n",
    "# Recorrer las etiquetas <script> y <link> para obtener la información de la tecnología utilizada\n",
    "for script in scripts:\n",
    "  src = script.get('src')\n",
    "  if src:\n",
    "    print('Script src:', src)\n",
    "for link in links:\n",
    "  href = link.get('href')\n",
    "  if href:\n",
    "    print('Link href:', href)"
   ]
  },
  {
   "cell_type": "code",
   "execution_count": 57,
   "id": "04739ca3",
   "metadata": {
    "scrolled": false
   },
   "outputs": [],
   "source": [
    "#print(html)"
   ]
  },
  {
   "cell_type": "code",
   "execution_count": 28,
   "id": "dcec7356",
   "metadata": {},
   "outputs": [
    {
     "name": "stderr",
     "output_type": "stream",
     "text": [
      "/tmp/ipykernel_109444/3243359065.py:5: DeprecationWarning: executable_path has been deprecated, please pass in a Service object\n",
      "  driver = webdriver.Chrome(chromedrive_path)\n"
     ]
    }
   ],
   "source": [
    "from selenium import webdriver\n",
    "from bs4 import BeautifulSoup\n",
    "\n",
    "chromedrive_path = './chromedriver' # use the path to the driver you downloaded from previous steps\n",
    "driver = webdriver.Chrome(chromedrive_path)"
   ]
  },
  {
   "cell_type": "code",
   "execution_count": 29,
   "id": "8074af5d",
   "metadata": {},
   "outputs": [],
   "source": [
    "url = 'https://www.google.com/maps/search/bars+near+NY,+USA/@40.7443439,-74.0197995,13z'\n",
    "#url = 'https://www.google.com/maps/search/bares+bogota+chapinero/@4.6521038,-74.058827,14z/data=!3m1!4b1'\n",
    "#url = 'https://www.google.com/maps/search/bares+ny/@23.5062822,-74.3435514,4z/data=!3m1!4b1'\n",
    "driver.get(url)"
   ]
  },
  {
   "cell_type": "code",
   "execution_count": 30,
   "id": "c7b85243",
   "metadata": {},
   "outputs": [],
   "source": [
    "page_content = driver.page_source"
   ]
  },
  {
   "cell_type": "code",
   "execution_count": 31,
   "id": "a3dcd03a",
   "metadata": {},
   "outputs": [],
   "source": [
    "#print(page_content)"
   ]
  },
  {
   "cell_type": "code",
   "execution_count": 32,
   "id": "4a261f19",
   "metadata": {},
   "outputs": [],
   "source": [
    "soup = BeautifulSoup(page_content, 'html.parser')"
   ]
  },
  {
   "cell_type": "code",
   "execution_count": 33,
   "id": "3d5a06a1",
   "metadata": {},
   "outputs": [],
   "source": [
    "block= soup.find_all(\"div\", class_=\"UaQhfb\")\n",
    "block= soup.find_all(\"div\", {\"jstcache\": \"211\"})"
   ]
  },
  {
   "cell_type": "code",
   "execution_count": 34,
   "id": "89675bf4",
   "metadata": {},
   "outputs": [
    {
     "name": "stdout",
     "output_type": "stream",
     "text": [
      "Chelsea Table & Stage\n",
      "Restaurante\n",
      "Hilton Fashion District Hotel, 152 W 26th St\n",
      "4,7\n",
      "Abierto\n",
      " ⋅ Cierra a las 23:00\n",
      "Consumo en el lugar\n",
      "Para llevar\n",
      "Entrega sin contacto\n",
      "--------------------------------------------------------------------\n",
      "Barfly\n",
      "Bar\n",
      "244 3rd Ave\n",
      "4,2\n",
      "Abierto\n",
      " ⋅ Cierra a la 1:00\n",
      "Consumo en el lugar\n",
      "Para llevar\n",
      "Entrega sin contacto\n",
      "--------------------------------------------------------------------\n",
      "Jeremy's Ale House\n",
      "Bar\n",
      "228 Front St\n",
      "4,4\n",
      "Abierto\n",
      " ⋅ Cierra a las 23:00\n",
      "Consumo en el lugar\n",
      "Para llevar\n",
      "No ofrece servicio de entrega a domicilio\n",
      "--------------------------------------------------------------------\n",
      "Pebble Bar\n",
      "Coctelería\n",
      "67 W 49th St\n",
      "4,5\n",
      "Abierto\n",
      " ⋅ Cierra a las 0:00\n",
      "Consumo en el lugar\n",
      "No vende comida para llevar\n",
      "No ofrece servicio de entrega a domicilio\n",
      "--------------------------------------------------------------------\n",
      "The Dead Rabbit\n",
      "Pub irlandés\n",
      "30 Water St\n",
      "4,7\n",
      "Abierto\n",
      " ⋅ Cierra a las 2:00\n",
      "Consumo en el lugar\n",
      "Para llevar\n",
      "Entrega a domicilio\n",
      "--------------------------------------------------------------------\n"
     ]
    }
   ],
   "source": [
    "for search in block:\n",
    "    names = search.find(\"span\", {\"jstcache\": \"123\"})\n",
    "    data = search.find_all(\"span\", {\"jstcache\": \"154\"})\n",
    "    dat1 = search.find_all(\"span\", {\"jstcache\": \"139\"})\n",
    "    dat2 = search.find_all(\"span\", {\"jstcache\": \"155\"})\n",
    "    dat3 = search.find_all(\"span\", {\"jstcache\": \"165\"})\n",
    "    if names:\n",
    "        print(names.string)\n",
    "    if data:\n",
    "        for text in data:\n",
    "            if text.string != None: \n",
    "                print(text.string)\n",
    "    if dat1:\n",
    "        for text in dat1:\n",
    "            print(text.string)\n",
    "    if dat2:\n",
    "        for text in dat2:\n",
    "            span = text.find_all(\"span\")\n",
    "            for text in span:\n",
    "                print(text.string)\n",
    "    if dat3:\n",
    "        for text in dat3:\n",
    "            print(text.string)\n",
    "    print('--------------------------------------------------------------------')"
   ]
  },
  {
   "cell_type": "code",
   "execution_count": 14,
   "id": "10fc9dd7",
   "metadata": {},
   "outputs": [
    {
     "data": {
      "text/plain": [
       "[]"
      ]
     },
     "execution_count": 14,
     "metadata": {},
     "output_type": "execute_result"
    }
   ],
   "source": [
    "#names\n",
    "soup.find_all(\"span\", {\"jstcache\": \"123\"})"
   ]
  },
  {
   "cell_type": "code",
   "execution_count": 15,
   "id": "8c2246d7",
   "metadata": {},
   "outputs": [
    {
     "data": {
      "text/plain": [
       "[]"
      ]
     },
     "execution_count": 15,
     "metadata": {},
     "output_type": "execute_result"
    }
   ],
   "source": [
    "soup.find_all(\"span\", {\"jstcache\": \"154\"})"
   ]
  },
  {
   "cell_type": "code",
   "execution_count": 16,
   "id": "72064f11",
   "metadata": {},
   "outputs": [],
   "source": [
    "#print(links)"
   ]
  },
  {
   "cell_type": "code",
   "execution_count": 17,
   "id": "505ac01e",
   "metadata": {},
   "outputs": [],
   "source": [
    "#print(soup.prettify())"
   ]
  },
  {
   "cell_type": "code",
   "execution_count": 18,
   "id": "c2f33ec9",
   "metadata": {},
   "outputs": [],
   "source": [
    "#import selenium\n",
    "#help (selenium)\n"
   ]
  },
  {
   "cell_type": "code",
   "execution_count": 19,
   "id": "77ae5733",
   "metadata": {},
   "outputs": [
    {
     "data": {
      "text/plain": [
       "<title>bars near NY, USA - Google Maps</title>"
      ]
     },
     "execution_count": 19,
     "metadata": {},
     "output_type": "execute_result"
    }
   ],
   "source": [
    "soup.title"
   ]
  },
  {
   "cell_type": "code",
   "execution_count": 20,
   "id": "5d54db55",
   "metadata": {},
   "outputs": [
    {
     "name": "stdout",
     "output_type": "stream",
     "text": [
      "https://www.google.com/maps/place/Chelsea+Table+%26+Stage/data=!4m7!3m6!1s0x89c259a54764417f:0x884b66f0b780f966!8m2!3d40.7455351!4d-73.9937764!16s%2Fg%2F11n731byyc!19sChIJf0FkR6VZwokRZvmAt_BmS4g?authuser=0&hl=es&rclk=1\n",
      "https://www.google.com/maps/place/Dave+%26+Buster's+New+York+City+(Times+Square)/data=!4m7!3m6!1s0x89c25854af9f53f1:0xf1b56fe323390976!8m2!3d40.756536!4d-73.988634!16s%2Fg%2F1tfv60t6!19sChIJ8VOfr1RYwokRdgk5I-NvtfE?authuser=0&hl=es&rclk=1\n",
      "https://www.google.com/maps/place/Barfly/data=!4m7!3m6!1s0x89c259a041f4512d:0x4e2903073dc82b1a!8m2!3d40.737118!4d-73.9846214!16s%2Fg%2F1tffq7xs!19sChIJLVH0QaBZwokRGivIPQcDKU4?authuser=0&hl=es&rclk=1\n",
      "https://www.google.com/maps/place/Jeremy's+Ale+House/data=!4m7!3m6!1s0x89c25a3cb878f7f1:0xb875c988ada7b770!8m2!3d40.707772!4d-74.00215!16s%2Fg%2F1trvmbvr!19sChIJ8fd4uDxawokRcLenrYjJdbg?authuser=0&hl=es&rclk=1\n",
      "https://www.google.com/maps/place/Pebble+Bar/data=!4m7!3m6!1s0x89c259e1511249af:0xd5d725708b4dc1f0!8m2!3d40.7592338!4d-73.9805544!16s%2Fg%2F11sq3dlmj8!19sChIJr0kSUeFZwokR8MFNi3Al19U?authuser=0&hl=es&rclk=1\n",
      "https://www.google.com/maps/reserve/v/dine/c/-Mx_3aF1s7E?source=pa&hl=es-CO&gei=vda9Y_DSPP2PwbkP4aym2AM&sourceurl=http://www.google.com/service/MapsSearchService/Search?authuser%3D0%26gl%3Dco%26hl%3Des%26q%3Dbars%2Bnear%2BNY,%2BUSA%26tbm%3Dmap\n",
      "https://support.google.com/maps/?hl=es&authuser=0&p=no_javascript\n"
     ]
    }
   ],
   "source": [
    "for link in soup.find_all('a'):\n",
    "    print(link.get('href'))"
   ]
  },
  {
   "cell_type": "code",
   "execution_count": 21,
   "id": "f8e87bb5",
   "metadata": {},
   "outputs": [
    {
     "name": "stdout",
     "output_type": "stream",
     "text": [
      "  bars near NY, USA - Google Maps                                                        Ocultar el panel lateral                                          Buscar      Borrar la búsqueda              Ocultar el panel lateral                                        Explorar          Viajes          Guardado          Contribuir           Más                    PrecioValoraciónHorarioTodos los filtros            Chelsea Table & Stage           Anuncio 4,7(43)         · Restaurante     · Hilton Fashion District Hotel, 152 W 26th St       ·  Abierto ⋅ Cierra a las 23:00                    Consumo en el lugar  ·        Para llevar  ·        Entrega sin contacto  ·         Dave & Buster's New York City (Times Square)           Anuncio 4,2(7.563)   · $$          · Restaurante     · 234 W 42nd St 3rd Floor       · Cadena de comida y sala de juegos       ·  Abierto ⋅ Cierra a las 0:00                    Consumo en el lugar  ·        Para llevar  ·        Entrega a domicilio  ·         Barfly         4,2(337)   · $          · Bar     · 244 3rd Ave       ·  Abierto ⋅ Cierra a la 1:00                Consumo en el lugar  ·    Para llevar  ·    Entrega sin contacto  ·         Jeremy's Ale House         4,4(764)   · $          · Bar     · 228 Front St       ·  Abierto ⋅ Cierra a las 23:00                Consumo en el lugar  ·    Para llevar  ·    No ofrece servicio de entrega a domicilio  ·         Pebble Bar         4,5(114)         · Coctelería     · 67 W 49th St       ·  Abierto ⋅ Cierra a las 0:00                Consumo en el lugar  ·    No vende comida para llevar  ·    No ofrece servicio de entrega a domicilio  ·          Reservar una mesa        Actualizar los resultados cuando se mueva el mapa  Volver al principio       Ocultar el panel lateral          Ocultar el panel lateral                                                                  When you have eliminated the JavaScript, whatever remains must be an empty page.  Habilita JavaScript para ver Google Maps.    \n"
     ]
    }
   ],
   "source": [
    "print(soup.get_text())"
   ]
  },
  {
   "cell_type": "code",
   "execution_count": 22,
   "id": "bd3c276b",
   "metadata": {},
   "outputs": [
    {
     "name": "stdout",
     "output_type": "stream",
     "text": [
      "[<a aria-label=\"Chelsea Table &amp; Stage\" class=\"hfpxzc\" href=\"https://www.google.com/maps/place/Chelsea+Table+%26+Stage/data=!4m7!3m6!1s0x89c259a54764417f:0x884b66f0b780f966!8m2!3d40.7455351!4d-73.9937764!16s%2Fg%2F11n731byyc!19sChIJf0FkR6VZwokRZvmAt_BmS4g?authuser=0&amp;hl=es&amp;rclk=1\" jsaction=\"pane.wfvdle7;focus:pane.wfvdle7;blur:pane.wfvdle7;auxclick:pane.wfvdle7;keydown:pane.wfvdle7;clickmod:pane.wfvdle7\" jsan=\"7.hfpxzc,0.aria-label,8.href,0.jsaction,0.jslog\" jslog=\"18538;track:click,contextmenu;metadata:WyIwYWhVS0V3aXdwZEt2OTczOEFoWDlSekFCSFdHV0NUc1FrUm9JbWdZb0ZRIixudWxsLG51bGwsW251bGwsbnVsbCxbWzE4Ml1dXV0=;mutable:true\" jstcache=\"84\"></a>, <a aria-label=\"Dave &amp; Buster's New York City (Times Square)\" class=\"hfpxzc\" href=\"https://www.google.com/maps/place/Dave+%26+Buster's+New+York+City+(Times+Square)/data=!4m7!3m6!1s0x89c25854af9f53f1:0xf1b56fe323390976!8m2!3d40.756536!4d-73.988634!16s%2Fg%2F1tfv60t6!19sChIJ8VOfr1RYwokRdgk5I-NvtfE?authuser=0&amp;hl=es&amp;rclk=1\" jsaction=\"pane.wfvdle11;focus:pane.wfvdle11;blur:pane.wfvdle11;auxclick:pane.wfvdle11;keydown:pane.wfvdle11;clickmod:pane.wfvdle11\" jsan=\"7.hfpxzc,0.aria-label,8.href,0.jsaction,0.jslog\" jslog=\"18538;track:click,contextmenu;metadata:WyIwYWhVS0V3aXdwZEt2OTczOEFoWDlSekFCSFdHV0NUc1FrUm9JOEFZb0ZnIixudWxsLG51bGwsW251bGwsbnVsbCxbWzIwMl1dXV0=;mutable:true\" jstcache=\"84\"></a>, <a aria-label=\"Barfly\" class=\"hfpxzc\" href=\"https://www.google.com/maps/place/Barfly/data=!4m7!3m6!1s0x89c259a041f4512d:0x4e2903073dc82b1a!8m2!3d40.737118!4d-73.9846214!16s%2Fg%2F1tffq7xs!19sChIJLVH0QaBZwokRGivIPQcDKU4?authuser=0&amp;hl=es&amp;rclk=1\" jsaction=\"pane.wfvdle15;focus:pane.wfvdle15;blur:pane.wfvdle15;auxclick:pane.wfvdle15;keydown:pane.wfvdle15;clickmod:pane.wfvdle15\" jsan=\"7.hfpxzc,0.aria-label,8.href,0.jsaction,0.jslog\" jslog=\"12690;track:click,contextmenu;metadata:WyIwYWhVS0V3aXdwZEt2OTczOEFoWDlSekFCSFdHV0NUc1E4QmNJQlNnQSIsbnVsbCwxXQ==;mutable:true\" jstcache=\"84\"></a>, <a aria-label=\"Jeremy's Ale House\" class=\"hfpxzc\" href=\"https://www.google.com/maps/place/Jeremy's+Ale+House/data=!4m7!3m6!1s0x89c25a3cb878f7f1:0xb875c988ada7b770!8m2!3d40.707772!4d-74.00215!16s%2Fg%2F1trvmbvr!19sChIJ8fd4uDxawokRcLenrYjJdbg?authuser=0&amp;hl=es&amp;rclk=1\" jsaction=\"pane.wfvdle18;focus:pane.wfvdle18;blur:pane.wfvdle18;auxclick:pane.wfvdle18;keydown:pane.wfvdle18;clickmod:pane.wfvdle18\" jsan=\"7.hfpxzc,0.aria-label,8.href,0.jsaction,0.jslog\" jslog=\"12690;track:click,contextmenu;metadata:WyIwYWhVS0V3aXdwZEt2OTczOEFoWDlSekFCSFdHV0NUc1E4QmNJTUNnQSIsbnVsbCwyXQ==;mutable:true\" jstcache=\"84\"></a>, <a aria-label=\"Pebble Bar\" class=\"hfpxzc\" href=\"https://www.google.com/maps/place/Pebble+Bar/data=!4m7!3m6!1s0x89c259e1511249af:0xd5d725708b4dc1f0!8m2!3d40.7592338!4d-73.9805544!16s%2Fg%2F11sq3dlmj8!19sChIJr0kSUeFZwokR8MFNi3Al19U?authuser=0&amp;hl=es&amp;rclk=1\" jsaction=\"pane.wfvdle21;focus:pane.wfvdle21;blur:pane.wfvdle21;auxclick:pane.wfvdle21;keydown:pane.wfvdle21;clickmod:pane.wfvdle21\" jsan=\"7.hfpxzc,0.aria-label,8.href,0.jsaction,0.jslog\" jslog=\"12690;track:click,contextmenu;metadata:WyIwYWhVS0V3aXdwZEt2OTczOEFoWDlSekFCSFdHV0NUc1E4QmNJVnlnQSIsbnVsbCwzXQ==;mutable:true\" jstcache=\"84\"></a>, <a class=\"A1zNzb\" href=\"https://www.google.com/maps/reserve/v/dine/c/-Mx_3aF1s7E?source=pa&amp;hl=es-CO&amp;gei=vda9Y_DSPP2PwbkP4aym2AM&amp;sourceurl=http://www.google.com/service/MapsSearchService/Search?authuser%3D0%26gl%3Dco%26hl%3Des%26q%3Dbars%2Bnear%2BNY,%2BUSA%26tbm%3Dmap\" jsaction=\"click:pane.wfvdle24; keydown:pane.wfvdle24\" jsan=\"7.A1zNzb,8.href,0.jsaction,0.jslog,0.target\" jslog=\"117932;track:click;metadata:WyIwYWhVS0V3aXdwZEt2OTczOEFoWDlSekFCSFdHV0NUc1Fyc2NDQ0h3b0FRIl0=\" jstcache=\"183\" target=\"_self\"> <div class=\"J8zHNe qejHf\" jsan=\"7.J8zHNe,7.qejHf\" jstcache=\"184\"> <span class=\"NwUSfe\"></span> <span jstcache=\"185\">Reservar una mesa</span> </div> </a>, <a class=\"hl4GXb\" href=\"https://support.google.com/maps/?hl=es&amp;authuser=0&amp;p=no_javascript\" target=\"_blank\">Habilita JavaScript para ver Google Maps.</a>]\n"
     ]
    }
   ],
   "source": [
    "a = soup.find_all('a')\n",
    "print(a)"
   ]
  },
  {
   "cell_type": "code",
   "execution_count": 27,
   "id": "ed3a1d8c",
   "metadata": {},
   "outputs": [],
   "source": [
    "driver.close()\n",
    "driver.quit()"
   ]
  },
  {
   "cell_type": "code",
   "execution_count": null,
   "id": "3fbd8c2d",
   "metadata": {},
   "outputs": [],
   "source": []
  }
 ],
 "metadata": {
  "kernelspec": {
   "display_name": "Python 3 (ipykernel)",
   "language": "python",
   "name": "python3"
  },
  "language_info": {
   "codemirror_mode": {
    "name": "ipython",
    "version": 3
   },
   "file_extension": ".py",
   "mimetype": "text/x-python",
   "name": "python",
   "nbconvert_exporter": "python",
   "pygments_lexer": "ipython3",
   "version": "3.9.13"
  }
 },
 "nbformat": 4,
 "nbformat_minor": 5
}
