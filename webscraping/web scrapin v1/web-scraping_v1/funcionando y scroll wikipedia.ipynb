{
 "cells": [
  {
   "cell_type": "code",
   "execution_count": 27,
   "id": "09128ec3",
   "metadata": {
    "scrolled": true
   },
   "outputs": [
    {
     "name": "stderr",
     "output_type": "stream",
     "text": [
      "/tmp/ipykernel_4149/2492258551.py:5: DeprecationWarning: executable_path has been deprecated, please pass in a Service object\n",
      "  driver = webdriver.Chrome(chromedrive_path)\n"
     ]
    }
   ],
   "source": [
    "from selenium import webdriver\n",
    "from bs4 import BeautifulSoup\n",
    "\n",
    "chromedrive_path = './chromedriver' # use the path to the driver you downloaded from previous steps\n",
    "driver = webdriver.Chrome(chromedrive_path)\n",
    "#url = 'https://www.google.com/maps/search/bars+near+NY,+USA/@40.7443439,-74.0197995,13z'\n",
    "#url = 'https://www.google.com/maps/search/bares+ny/@40.7443439,-74.0197995,13z'\n",
    "#url = 'https://www.google.com/maps/search/bares+bogota+chapinero/@40.7443439,-74.0197995,13z'\n",
    "url = 'https://www.google.com/maps/search/bar+ny/@40.7278085,-74.0687627,13z/data=!3m1!4b1'\n",
    "driver.get(url)\n",
    "page_content = driver.page_source\n",
    "soup = BeautifulSoup(page_content, 'html.parser')"
   ]
  },
  {
   "cell_type": "code",
   "execution_count": 29,
   "id": "d9fcee0c",
   "metadata": {},
   "outputs": [],
   "source": [
    "listNames = []\n",
    "listPromedio = []\n",
    "listInfo1 = []\n",
    "listMiddle1 = []\n",
    "listInfo2 = []\n",
    "listMiddle2 = []"
   ]
  },
  {
   "cell_type": "code",
   "execution_count": 30,
   "id": "0dee5123",
   "metadata": {},
   "outputs": [
    {
     "name": "stdout",
     "output_type": "stream",
     "text": [
      "Nombre: Charlie Bird\n",
      "puntaje: 4,4\n",
      "info1: Italiana\n",
      "info1: 5 King St\n",
      "info1: Local de moda con comida estadounidense moderna\n",
      "info1: Cerrado\n",
      "info1:  ⋅ Abre a las 17:00\n",
      "info2: Consumo en el lugar\n",
      "info2: Retiros en la puerta\n",
      "--------------------------------------------------------------------\n",
      "Nombre: Fashion Bar\n",
      "puntaje: 4,4\n",
      "info1: Bar\n",
      "info1: 305 W 46th St\n",
      "info1: Cerrado\n",
      "info1:  ⋅ Abre a las 17:00\n",
      "info2: Consumo en el lugar\n",
      "info2: No ofrece servicio de entrega a domicilio\n",
      "--------------------------------------------------------------------\n",
      "Nombre: Rudy's Bar & Grill\n",
      "puntaje: 4,6\n",
      "info1: Bar\n",
      "info1: 627 9th Ave\n",
      "info1: Bar clásico de 1933\n",
      "info1: Abierto\n",
      "info1:  ⋅ Cierra a las 4:00\n",
      "info2: Consumo en el lugar\n",
      "info2: No ofrece servicio de entrega a domicilio\n",
      "--------------------------------------------------------------------\n",
      "Nombre: Johnny's Bar\n",
      "puntaje: 4,5\n",
      "info1: Bar\n",
      "info1: 90 Greenwich Ave\n",
      "info1: Abierto\n",
      "info1:  ⋅ Cierra a las 4:00\n",
      "info2: Consumo en el lugar\n",
      "info2: No vende comida para llevar\n",
      "info2: No ofrece servicio de entrega a domicilio\n",
      "--------------------------------------------------------------------\n"
     ]
    }
   ],
   "source": [
    "block= soup.find_all(\"div\", class_=\"bfdHYd\")\n",
    "for search in block:\n",
    "    names = search.find(\"div\", class_= \"qBF1Pd\")\n",
    "    data0 = search.find(\"span\",  class_=\"MW4etd\")\n",
    "    dat1 = search.find_all(\"div\", class_=\"W4Efsd\")\n",
    "    dat2 = search.find_all(\"div\", class_=\"ah5Ghc\")\n",
    "    if names:\n",
    "        ns = names.find(\"span\")\n",
    "        if ns: \n",
    "            print(\"Nombre:\",ns.string)\n",
    "            listNames.append(ns.string)\n",
    "    if data0:\n",
    "        print(\"puntaje:\",data0.string)\n",
    "        listPromedio.append(data0.string)\n",
    "    elif data0 == None:\n",
    "        listPromedio.append(data0)\n",
    "    \n",
    "    if dat1:\n",
    "        span = dat1[1].find_all(\"span\")\n",
    "        for text in span:\n",
    "            if(text.string != None and text.string != '·' ):\n",
    "                print(\"info1:\",text.string)\n",
    "                listMiddle1.append(text.string)\n",
    "    listInfo1.append(listMiddle1)\n",
    "    if dat2:\n",
    "        for text in dat2:\n",
    "            span = text.find_all(\"span\")\n",
    "            for text in span:\n",
    "                print(\"info2:\",text.string)\n",
    "                listMiddle2.append(text.string)\n",
    "    listInfo2.append(listMiddle2)\n",
    "    \n",
    "    listMiddle1 = []\n",
    "    listMiddle2 = []\n",
    "    print('--------------------------------------------------------------------')"
   ]
  },
  {
   "cell_type": "code",
   "execution_count": null,
   "id": "2aaac267",
   "metadata": {},
   "outputs": [],
   "source": [
    "from selenium import webdriver\n",
    "from selenium.webdriver.common.keys import Keys\n",
    "from selenium.webdriver.common.by import By\n",
    "import time\n",
    "driver = webdriver.Chrome()\n",
    "driver.get(\"https://en.wikipedia.org/wiki/Josh_Kalis\")\n",
    "\n",
    "x = 0\n",
    "while True:\n",
    "    x =+ 1\n",
    "    driver.execute_script('scrollBy(0,100)')\n",
    "    time.sleep(1)\n",
    "    if x > 10:\n",
    "        break\n",
    "print(\"end scroll\")"
   ]
  },
  {
   "cell_type": "code",
   "execution_count": 31,
   "id": "39186c31",
   "metadata": {},
   "outputs": [
    {
     "name": "stdout",
     "output_type": "stream",
     "text": [
      "end\n"
     ]
    }
   ],
   "source": [
    "from selenium import webdriver\n",
    "from selenium.webdriver.common.keys import Keys\n",
    "from selenium.webdriver.common.by import By\n",
    "import time\n",
    "driver = webdriver.Chrome()\n",
    "driver.get(\"https://en.wikipedia.org/wiki/Josh_Kalis\")\n",
    "time.sleep(2)\n",
    "driver.find_element(By.TAG_NAME,'body').send_keys(Keys.END)\n",
    "time.sleep(2)\n",
    "driver.find_element(By.TAG_NAME,'body').send_keys(Keys.HOME)\n",
    "time.sleep(2)\n",
    "driver.find_element(By.TAG_NAME,'body').send_keys(Keys.COMMAND + Keys.ARROW_UP)\n",
    "time.sleep(2)\n",
    "print(\"end scroll\")"
   ]
  },
  {
   "cell_type": "code",
   "execution_count": 23,
   "id": "3c478ded",
   "metadata": {},
   "outputs": [
    {
     "name": "stdout",
     "output_type": "stream",
     "text": [
      "end\n"
     ]
    }
   ],
   "source": [
    "from selenium import webdriver\n",
    "from selenium.webdriver.common.keys import Keys\n",
    "from selenium.webdriver.common.by import By\n",
    "import time\n",
    "driver = webdriver.Chrome()\n",
    "driver.get(\"https://en.wikipedia.org/wiki/Josh_Kalis\")\n",
    "\n",
    "python = driver.find_element(By.XPATH, '//*[@id=\"mw-content-text\"]/div[1]/p[13]')\n",
    "driver.execute_script('arguments[0].scrollIntoView(true)',python)\n",
    "print(\"end scroll\")"
   ]
  },
  {
   "cell_type": "code",
   "execution_count": 36,
   "id": "84c20d00",
   "metadata": {},
   "outputs": [
    {
     "name": "stdout",
     "output_type": "stream",
     "text": [
      "end\n"
     ]
    }
   ],
   "source": [
    "from selenium import webdriver\n",
    "from selenium.webdriver.common.keys import Keys\n",
    "from selenium.webdriver.common.by import By\n",
    "import time\n",
    "driver = webdriver.Chrome()\n",
    "driver.get(\"https://en.wikipedia.org/wiki/Josh_Kalis\")\n",
    "\n",
    "python = driver.find_element(By.XPATH, '//*[@id=\"toc\"]/ul/li[1]/a/span[2]')\n",
    "#driver.execute_script('arguments[0].scrollIntoView(true)',python)\n",
    "python.click()\n",
    "print(\"end click\")"
   ]
  },
  {
   "cell_type": "code",
   "execution_count": 112,
   "id": "ea07169f",
   "metadata": {},
   "outputs": [],
   "source": []
  },
  {
   "cell_type": "code",
   "execution_count": 114,
   "id": "304282ec",
   "metadata": {},
   "outputs": [
    {
     "name": "stdout",
     "output_type": "stream",
     "text": [
      "Restaurante italiano\n"
     ]
    }
   ],
   "source": []
  },
  {
   "cell_type": "code",
   "execution_count": null,
   "id": "f7fd74dc",
   "metadata": {},
   "outputs": [],
   "source": []
  }
 ],
 "metadata": {
  "kernelspec": {
   "display_name": "Python 3 (ipykernel)",
   "language": "python",
   "name": "python3"
  },
  "language_info": {
   "codemirror_mode": {
    "name": "ipython",
    "version": 3
   },
   "file_extension": ".py",
   "mimetype": "text/x-python",
   "name": "python",
   "nbconvert_exporter": "python",
   "pygments_lexer": "ipython3",
   "version": "3.9.13"
  }
 },
 "nbformat": 4,
 "nbformat_minor": 5
}
